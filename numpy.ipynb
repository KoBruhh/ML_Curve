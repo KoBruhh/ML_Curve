{
 "cells": [
  {
   "cell_type": "code",
   "execution_count": 6,
   "metadata": {
    "collapsed": true,
    "ExecuteTime": {
     "end_time": "2023-05-13T05:38:51.791007540Z",
     "start_time": "2023-05-13T05:38:43.942881725Z"
    }
   },
   "outputs": [
    {
     "name": "stdout",
     "output_type": "stream",
     "text": [
      "Collecting numpy\r\n",
      "  Using cached numpy-1.24.3-cp310-cp310-manylinux_2_17_x86_64.manylinux2014_x86_64.whl (17.3 MB)\r\n",
      "Collecting pandas\r\n",
      "  Using cached pandas-2.0.1-cp310-cp310-manylinux_2_17_x86_64.manylinux2014_x86_64.whl (12.3 MB)\r\n",
      "Collecting pytz>=2020.1\r\n",
      "  Downloading pytz-2023.3-py2.py3-none-any.whl (502 kB)\r\n",
      "\u001B[2K     \u001B[90m━━━━━━━━━━━━━━━━━━━━━━━━━━━━━━━━━━━━━━━\u001B[0m \u001B[32m502.3/502.3 kB\u001B[0m \u001B[31m2.3 MB/s\u001B[0m eta \u001B[36m0:00:00\u001B[0ma \u001B[36m0:00:01\u001B[0m\r\n",
      "\u001B[?25hRequirement already satisfied: python-dateutil>=2.8.2 in ./venv/lib/python3.10/site-packages (from pandas) (2.8.2)\r\n",
      "Collecting tzdata>=2022.1\r\n",
      "  Using cached tzdata-2023.3-py2.py3-none-any.whl (341 kB)\r\n",
      "Requirement already satisfied: six>=1.5 in ./venv/lib/python3.10/site-packages (from python-dateutil>=2.8.2->pandas) (1.16.0)\r\n",
      "Installing collected packages: pytz, tzdata, numpy, pandas\r\n",
      "Successfully installed numpy-1.24.3 pandas-2.0.1 pytz-2023.3 tzdata-2023.3\r\n",
      "\r\n",
      "\u001B[1m[\u001B[0m\u001B[34;49mnotice\u001B[0m\u001B[1;39;49m]\u001B[0m\u001B[39;49m A new release of pip available: \u001B[0m\u001B[31;49m22.3.1\u001B[0m\u001B[39;49m -> \u001B[0m\u001B[32;49m23.1.2\u001B[0m\r\n",
      "\u001B[1m[\u001B[0m\u001B[34;49mnotice\u001B[0m\u001B[1;39;49m]\u001B[0m\u001B[39;49m To update, run: \u001B[0m\u001B[32;49mpip install --upgrade pip\u001B[0m\r\n",
      "This is the simple core of NumPy Library usage\n"
     ]
    }
   ],
   "source": [
    "!pip install numpy pandas\n",
    "arr1.sort()\n",
    "print(\"This is the simple core of NumPy Library usage\");"
   ]
  },
  {
   "cell_type": "code",
   "execution_count": 7,
   "outputs": [],
   "source": [
    "# Importing packages\n",
    "import numpy as np\n",
    "import pandas as pd"
   ],
   "metadata": {
    "collapsed": false,
    "ExecuteTime": {
     "end_time": "2023-05-13T05:40:41.399474134Z",
     "start_time": "2023-05-13T05:40:41.105658682Z"
    }
   }
  },
  {
   "cell_type": "code",
   "execution_count": 84,
   "outputs": [
    {
     "data": {
      "text/plain": "array([11, 44,  5, 96, 67, 85])"
     },
     "execution_count": 84,
     "metadata": {},
     "output_type": "execute_result"
    }
   ],
   "source": [
    "## Arrays\n",
    "\n",
    "# Single Dimensional Arrays\n",
    "single = np.array([1, 2, 3, 4]);\n",
    "\n",
    "# Multi Dimensional Arrays\n",
    "multi = np.array([[1, 2, 3, 4], [1, 2, 3, 4]]);\n",
    "\n",
    "# Initializing an array with zeros\n",
    "zeros = np.zeros((5, 5)) # -> happens to be a matrix\n",
    "                # ^--^--- could be 1, 2 so one dimensional two elements\n",
    "\n",
    "# Initializing with any number\n",
    "any = np.full((2, 2), 1.2)\n",
    "\n",
    "# Initializing within a range\n",
    "range = np.arange(10, 20) # (10, 20, 2) -> for double incrementation\n",
    "\n",
    "# Initializing Randomly\n",
    "random = np.random.randint(1, 100, 7) # (rangex, y, elements)\n",
    "\n",
    "# Shape of (you) array\n",
    "shape = any.shape # () gives and error idk?\n",
    "any.shape = (1, 4) # Reshaping\n",
    "\n",
    "# Joining NumPy Arrays\n",
    "\n",
    "n1 = np.array([1, 2, 3, 4, 5, 0])\n",
    "n2 = np.array([6, 7, 8, 9, 10, 11])\n",
    "\n",
    "ver = np.vstack((n1, n2))\n",
    "hor = np.hstack((n1, n2))\n",
    "col = np.column_stack((n1, n2))\n",
    "\n",
    "# Intersection & Difference\n",
    "# setdiff1d(n1, n2) # -> n1 has but n2 not has\n",
    "\n",
    "# Math\n",
    "arr1 = np.array([11, 44, 5, 96, 67, 85])\n",
    "med  = np.median(arr1) # Or mean\n",
    "std  = np.std(arr1) # standard deviation ('sapma' in turkish)\n",
    "\n",
    "# Saving and loading\n",
    "\n",
    "np.save(\"name\", arr1)\n",
    "new_arr = np.load(\"name.npy\")\n",
    "new_arr"
   ],
   "metadata": {
    "collapsed": false,
    "ExecuteTime": {
     "end_time": "2023-05-13T06:55:39.407003179Z",
     "start_time": "2023-05-13T06:55:39.307631343Z"
    }
   }
  },
  {
   "cell_type": "code",
   "execution_count": 83,
   "outputs": [],
   "source": [],
   "metadata": {
    "collapsed": false,
    "ExecuteTime": {
     "end_time": "2023-05-13T06:50:55.630859363Z",
     "start_time": "2023-05-13T06:50:55.589143324Z"
    }
   }
  }
 ],
 "metadata": {
  "kernelspec": {
   "display_name": "Python 3",
   "language": "python",
   "name": "python3"
  },
  "language_info": {
   "codemirror_mode": {
    "name": "ipython",
    "version": 2
   },
   "file_extension": ".py",
   "mimetype": "text/x-python",
   "name": "python",
   "nbconvert_exporter": "python",
   "pygments_lexer": "ipython2",
   "version": "2.7.6"
  }
 },
 "nbformat": 4,
 "nbformat_minor": 0
}
