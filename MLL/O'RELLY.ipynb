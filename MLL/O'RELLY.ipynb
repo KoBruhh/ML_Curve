{
 "cells": [
  {
   "cell_type": "code",
   "execution_count": 19,
   "metadata": {
    "ExecuteTime": {
     "end_time": "2023-05-14T06:53:15.588360112Z",
     "start_time": "2023-05-14T06:53:13.873539822Z"
    }
   },
   "outputs": [
    {
     "name": "stdout",
     "output_type": "stream",
     "text": [
      "Requirement already satisfied: mglearn in /home/kobruh/PycharmProjects/pythonProject2/venv/lib/python3.10/site-packages (0.1.9)\r\n",
      "Requirement already satisfied: imageio in /home/kobruh/PycharmProjects/pythonProject2/venv/lib/python3.10/site-packages (from mglearn) (2.28.1)\r\n",
      "Requirement already satisfied: scikit-learn in /home/kobruh/PycharmProjects/pythonProject2/venv/lib/python3.10/site-packages (from mglearn) (1.2.2)\r\n",
      "Requirement already satisfied: pandas in /home/kobruh/PycharmProjects/pythonProject2/venv/lib/python3.10/site-packages (from mglearn) (2.0.1)\r\n",
      "Requirement already satisfied: cycler in /home/kobruh/PycharmProjects/pythonProject2/venv/lib/python3.10/site-packages (from mglearn) (0.11.0)\r\n",
      "Requirement already satisfied: joblib in /home/kobruh/PycharmProjects/pythonProject2/venv/lib/python3.10/site-packages (from mglearn) (1.2.0)\r\n",
      "Requirement already satisfied: pillow in /home/kobruh/PycharmProjects/pythonProject2/venv/lib/python3.10/site-packages (from mglearn) (9.5.0)\r\n",
      "Requirement already satisfied: numpy in /home/kobruh/PycharmProjects/pythonProject2/venv/lib/python3.10/site-packages (from mglearn) (1.24.3)\r\n",
      "Requirement already satisfied: matplotlib in /home/kobruh/PycharmProjects/pythonProject2/venv/lib/python3.10/site-packages (from mglearn) (3.7.1)\r\n",
      "Requirement already satisfied: kiwisolver>=1.0.1 in /home/kobruh/PycharmProjects/pythonProject2/venv/lib/python3.10/site-packages (from matplotlib->mglearn) (1.4.4)\r\n",
      "Requirement already satisfied: packaging>=20.0 in /home/kobruh/PycharmProjects/pythonProject2/venv/lib/python3.10/site-packages (from matplotlib->mglearn) (23.1)\r\n",
      "Requirement already satisfied: fonttools>=4.22.0 in /home/kobruh/PycharmProjects/pythonProject2/venv/lib/python3.10/site-packages (from matplotlib->mglearn) (4.39.4)\r\n",
      "Requirement already satisfied: contourpy>=1.0.1 in /home/kobruh/PycharmProjects/pythonProject2/venv/lib/python3.10/site-packages (from matplotlib->mglearn) (1.0.7)\r\n",
      "Requirement already satisfied: pyparsing>=2.3.1 in /home/kobruh/PycharmProjects/pythonProject2/venv/lib/python3.10/site-packages (from matplotlib->mglearn) (3.0.9)\r\n",
      "Requirement already satisfied: python-dateutil>=2.7 in /home/kobruh/PycharmProjects/pythonProject2/venv/lib/python3.10/site-packages (from matplotlib->mglearn) (2.8.2)\r\n",
      "Requirement already satisfied: tzdata>=2022.1 in /home/kobruh/PycharmProjects/pythonProject2/venv/lib/python3.10/site-packages (from pandas->mglearn) (2023.3)\r\n",
      "Requirement already satisfied: pytz>=2020.1 in /home/kobruh/PycharmProjects/pythonProject2/venv/lib/python3.10/site-packages (from pandas->mglearn) (2023.3)\r\n",
      "Requirement already satisfied: threadpoolctl>=2.0.0 in /home/kobruh/PycharmProjects/pythonProject2/venv/lib/python3.10/site-packages (from scikit-learn->mglearn) (3.1.0)\r\n",
      "Requirement already satisfied: scipy>=1.3.2 in /home/kobruh/PycharmProjects/pythonProject2/venv/lib/python3.10/site-packages (from scikit-learn->mglearn) (1.10.1)\r\n",
      "Requirement already satisfied: six>=1.5 in /home/kobruh/PycharmProjects/pythonProject2/venv/lib/python3.10/site-packages (from python-dateutil>=2.7->matplotlib->mglearn) (1.16.0)\r\n",
      "\r\n",
      "\u001B[1m[\u001B[0m\u001B[34;49mnotice\u001B[0m\u001B[1;39;49m]\u001B[0m\u001B[39;49m A new release of pip available: \u001B[0m\u001B[31;49m22.3.1\u001B[0m\u001B[39;49m -> \u001B[0m\u001B[32;49m23.1.2\u001B[0m\r\n",
      "\u001B[1m[\u001B[0m\u001B[34;49mnotice\u001B[0m\u001B[1;39;49m]\u001B[0m\u001B[39;49m To update, run: \u001B[0m\u001B[32;49mpip install --upgrade pip\u001B[0m\r\n"
     ]
    },
    {
     "ename": "ImportError",
     "evalue": "\n`load_boston` has been removed from scikit-learn since version 1.2.\n\nThe Boston housing prices dataset has an ethical problem: as\ninvestigated in [1], the authors of this dataset engineered a\nnon-invertible variable \"B\" assuming that racial self-segregation had a\npositive impact on house prices [2]. Furthermore the goal of the\nresearch that led to the creation of this dataset was to study the\nimpact of air quality but it did not give adequate demonstration of the\nvalidity of this assumption.\n\nThe scikit-learn maintainers therefore strongly discourage the use of\nthis dataset unless the purpose of the code is to study and educate\nabout ethical issues in data science and machine learning.\n\nIn this special case, you can fetch the dataset from the original\nsource::\n\n    import pandas as pd\n    import numpy as np\n\n    data_url = \"http://lib.stat.cmu.edu/datasets/boston\"\n    raw_df = pd.read_csv(data_url, sep=\"\\s+\", skiprows=22, header=None)\n    data = np.hstack([raw_df.values[::2, :], raw_df.values[1::2, :2]])\n    target = raw_df.values[1::2, 2]\n\nAlternative datasets include the California housing dataset and the\nAmes housing dataset. You can load the datasets as follows::\n\n    from sklearn.datasets import fetch_california_housing\n    housing = fetch_california_housing()\n\nfor the California housing dataset and::\n\n    from sklearn.datasets import fetch_openml\n    housing = fetch_openml(name=\"house_prices\", as_frame=True)\n\nfor the Ames housing dataset.\n\n[1] M Carlisle.\n\"Racist data destruction?\"\n<https://medium.com/@docintangible/racist-data-destruction-113e3eff54a8>\n\n[2] Harrison Jr, David, and Daniel L. Rubinfeld.\n\"Hedonic housing prices and the demand for clean air.\"\nJournal of environmental economics and management 5.1 (1978): 81-102.\n<https://www.researchgate.net/publication/4974606_Hedonic_housing_prices_and_the_demand_for_clean_air>\n",
     "output_type": "error",
     "traceback": [
      "\u001B[0;31m---------------------------------------------------------------------------\u001B[0m",
      "\u001B[0;31mImportError\u001B[0m                               Traceback (most recent call last)",
      "Cell \u001B[0;32mIn[19], line 7\u001B[0m\n\u001B[1;32m      5\u001B[0m \u001B[38;5;28;01mimport\u001B[39;00m \u001B[38;5;21;01mmatplotlib\u001B[39;00m\u001B[38;5;21;01m.\u001B[39;00m\u001B[38;5;21;01mpyplot\u001B[39;00m \u001B[38;5;28;01mas\u001B[39;00m \u001B[38;5;21;01mplt\u001B[39;00m\n\u001B[1;32m      6\u001B[0m \u001B[38;5;28;01mimport\u001B[39;00m \u001B[38;5;21;01mpandas\u001B[39;00m \u001B[38;5;28;01mas\u001B[39;00m \u001B[38;5;21;01mpd\u001B[39;00m\n\u001B[0;32m----> 7\u001B[0m \u001B[38;5;28;01mimport\u001B[39;00m \u001B[38;5;21;01mmglearn\u001B[39;00m\n",
      "File \u001B[0;32m~/PycharmProjects/pythonProject2/venv/lib/python3.10/site-packages/mglearn/__init__.py:1\u001B[0m\n\u001B[0;32m----> 1\u001B[0m \u001B[38;5;28;01mfrom\u001B[39;00m \u001B[38;5;21;01m.\u001B[39;00m \u001B[38;5;28;01mimport\u001B[39;00m plots\n\u001B[1;32m      2\u001B[0m \u001B[38;5;28;01mfrom\u001B[39;00m \u001B[38;5;21;01m.\u001B[39;00m \u001B[38;5;28;01mimport\u001B[39;00m tools\n\u001B[1;32m      3\u001B[0m \u001B[38;5;28;01mfrom\u001B[39;00m \u001B[38;5;21;01m.\u001B[39;00m\u001B[38;5;21;01mplots\u001B[39;00m \u001B[38;5;28;01mimport\u001B[39;00m cm3, cm2\n",
      "File \u001B[0;32m~/PycharmProjects/pythonProject2/venv/lib/python3.10/site-packages/mglearn/plots.py:5\u001B[0m\n\u001B[1;32m      3\u001B[0m \u001B[38;5;28;01mfrom\u001B[39;00m \u001B[38;5;21;01m.\u001B[39;00m\u001B[38;5;21;01mplot_animal_tree\u001B[39;00m \u001B[38;5;28;01mimport\u001B[39;00m plot_animal_tree\n\u001B[1;32m      4\u001B[0m \u001B[38;5;28;01mfrom\u001B[39;00m \u001B[38;5;21;01m.\u001B[39;00m\u001B[38;5;21;01mplot_rbf_svm_parameters\u001B[39;00m \u001B[38;5;28;01mimport\u001B[39;00m plot_svm\n\u001B[0;32m----> 5\u001B[0m \u001B[38;5;28;01mfrom\u001B[39;00m \u001B[38;5;21;01m.\u001B[39;00m\u001B[38;5;21;01mplot_knn_regression\u001B[39;00m \u001B[38;5;28;01mimport\u001B[39;00m plot_knn_regression\n\u001B[1;32m      6\u001B[0m \u001B[38;5;28;01mfrom\u001B[39;00m \u001B[38;5;21;01m.\u001B[39;00m\u001B[38;5;21;01mplot_knn_classification\u001B[39;00m \u001B[38;5;28;01mimport\u001B[39;00m plot_knn_classification\n\u001B[1;32m      7\u001B[0m \u001B[38;5;28;01mfrom\u001B[39;00m \u001B[38;5;21;01m.\u001B[39;00m\u001B[38;5;21;01mplot_2d_separator\u001B[39;00m \u001B[38;5;28;01mimport\u001B[39;00m plot_2d_classification, plot_2d_separator\n",
      "File \u001B[0;32m~/PycharmProjects/pythonProject2/venv/lib/python3.10/site-packages/mglearn/plot_knn_regression.py:7\u001B[0m\n\u001B[1;32m      4\u001B[0m \u001B[38;5;28;01mfrom\u001B[39;00m \u001B[38;5;21;01msklearn\u001B[39;00m\u001B[38;5;21;01m.\u001B[39;00m\u001B[38;5;21;01mneighbors\u001B[39;00m \u001B[38;5;28;01mimport\u001B[39;00m KNeighborsRegressor\n\u001B[1;32m      5\u001B[0m \u001B[38;5;28;01mfrom\u001B[39;00m \u001B[38;5;21;01msklearn\u001B[39;00m\u001B[38;5;21;01m.\u001B[39;00m\u001B[38;5;21;01mmetrics\u001B[39;00m \u001B[38;5;28;01mimport\u001B[39;00m euclidean_distances\n\u001B[0;32m----> 7\u001B[0m \u001B[38;5;28;01mfrom\u001B[39;00m \u001B[38;5;21;01m.\u001B[39;00m\u001B[38;5;21;01mdatasets\u001B[39;00m \u001B[38;5;28;01mimport\u001B[39;00m make_wave\n\u001B[1;32m      8\u001B[0m \u001B[38;5;28;01mfrom\u001B[39;00m \u001B[38;5;21;01m.\u001B[39;00m\u001B[38;5;21;01mplot_helpers\u001B[39;00m \u001B[38;5;28;01mimport\u001B[39;00m cm3\n\u001B[1;32m     11\u001B[0m \u001B[38;5;28;01mdef\u001B[39;00m \u001B[38;5;21mplot_knn_regression\u001B[39m(n_neighbors\u001B[38;5;241m=\u001B[39m\u001B[38;5;241m1\u001B[39m):\n",
      "File \u001B[0;32m~/PycharmProjects/pythonProject2/venv/lib/python3.10/site-packages/mglearn/datasets.py:5\u001B[0m\n\u001B[1;32m      3\u001B[0m \u001B[38;5;28;01mimport\u001B[39;00m \u001B[38;5;21;01mos\u001B[39;00m\n\u001B[1;32m      4\u001B[0m \u001B[38;5;28;01mfrom\u001B[39;00m \u001B[38;5;21;01mscipy\u001B[39;00m \u001B[38;5;28;01mimport\u001B[39;00m signal\n\u001B[0;32m----> 5\u001B[0m \u001B[38;5;28;01mfrom\u001B[39;00m \u001B[38;5;21;01msklearn\u001B[39;00m\u001B[38;5;21;01m.\u001B[39;00m\u001B[38;5;21;01mdatasets\u001B[39;00m \u001B[38;5;28;01mimport\u001B[39;00m load_boston\n\u001B[1;32m      6\u001B[0m \u001B[38;5;28;01mfrom\u001B[39;00m \u001B[38;5;21;01msklearn\u001B[39;00m\u001B[38;5;21;01m.\u001B[39;00m\u001B[38;5;21;01mpreprocessing\u001B[39;00m \u001B[38;5;28;01mimport\u001B[39;00m MinMaxScaler, PolynomialFeatures\n\u001B[1;32m      7\u001B[0m \u001B[38;5;28;01mfrom\u001B[39;00m \u001B[38;5;21;01m.\u001B[39;00m\u001B[38;5;21;01mmake_blobs\u001B[39;00m \u001B[38;5;28;01mimport\u001B[39;00m make_blobs\n",
      "File \u001B[0;32m~/PycharmProjects/pythonProject2/venv/lib/python3.10/site-packages/sklearn/datasets/__init__.py:156\u001B[0m, in \u001B[0;36m__getattr__\u001B[0;34m(name)\u001B[0m\n\u001B[1;32m    105\u001B[0m \u001B[38;5;28;01mif\u001B[39;00m name \u001B[38;5;241m==\u001B[39m \u001B[38;5;124m\"\u001B[39m\u001B[38;5;124mload_boston\u001B[39m\u001B[38;5;124m\"\u001B[39m:\n\u001B[1;32m    106\u001B[0m     msg \u001B[38;5;241m=\u001B[39m textwrap\u001B[38;5;241m.\u001B[39mdedent(\n\u001B[1;32m    107\u001B[0m \u001B[38;5;250m        \u001B[39m\u001B[38;5;124;03m\"\"\"\u001B[39;00m\n\u001B[1;32m    108\u001B[0m \u001B[38;5;124;03m        `load_boston` has been removed from scikit-learn since version 1.2.\u001B[39;00m\n\u001B[0;32m   (...)\u001B[0m\n\u001B[1;32m    154\u001B[0m \u001B[38;5;124;03m        \"\"\"\u001B[39;00m\n\u001B[1;32m    155\u001B[0m     )\n\u001B[0;32m--> 156\u001B[0m     \u001B[38;5;28;01mraise\u001B[39;00m \u001B[38;5;167;01mImportError\u001B[39;00m(msg)\n\u001B[1;32m    157\u001B[0m \u001B[38;5;28;01mtry\u001B[39;00m:\n\u001B[1;32m    158\u001B[0m     \u001B[38;5;28;01mreturn\u001B[39;00m \u001B[38;5;28mglobals\u001B[39m()[name]\n",
      "\u001B[0;31mImportError\u001B[0m: \n`load_boston` has been removed from scikit-learn since version 1.2.\n\nThe Boston housing prices dataset has an ethical problem: as\ninvestigated in [1], the authors of this dataset engineered a\nnon-invertible variable \"B\" assuming that racial self-segregation had a\npositive impact on house prices [2]. Furthermore the goal of the\nresearch that led to the creation of this dataset was to study the\nimpact of air quality but it did not give adequate demonstration of the\nvalidity of this assumption.\n\nThe scikit-learn maintainers therefore strongly discourage the use of\nthis dataset unless the purpose of the code is to study and educate\nabout ethical issues in data science and machine learning.\n\nIn this special case, you can fetch the dataset from the original\nsource::\n\n    import pandas as pd\n    import numpy as np\n\n    data_url = \"http://lib.stat.cmu.edu/datasets/boston\"\n    raw_df = pd.read_csv(data_url, sep=\"\\s+\", skiprows=22, header=None)\n    data = np.hstack([raw_df.values[::2, :], raw_df.values[1::2, :2]])\n    target = raw_df.values[1::2, 2]\n\nAlternative datasets include the California housing dataset and the\nAmes housing dataset. You can load the datasets as follows::\n\n    from sklearn.datasets import fetch_california_housing\n    housing = fetch_california_housing()\n\nfor the California housing dataset and::\n\n    from sklearn.datasets import fetch_openml\n    housing = fetch_openml(name=\"house_prices\", as_frame=True)\n\nfor the Ames housing dataset.\n\n[1] M Carlisle.\n\"Racist data destruction?\"\n<https://medium.com/@docintangible/racist-data-destruction-113e3eff54a8>\n\n[2] Harrison Jr, David, and Daniel L. Rubinfeld.\n\"Hedonic housing prices and the demand for clean air.\"\nJournal of environmental economics and management 5.1 (1978): 81-102.\n<https://www.researchgate.net/publication/4974606_Hedonic_housing_prices_and_the_demand_for_clean_air>\n"
     ]
    }
   ],
   "source": [
    "!pip install mglearn\n",
    "%matplotlib inline\n",
    "#%matplotlib notebook # -> Would make it more interactive\n",
    "import numpy as np\n",
    "import matplotlib.pyplot as plt\n",
    "import pandas as pd\n",
    "import mglearn\n"
   ]
  },
  {
   "cell_type": "code",
   "execution_count": null,
   "metadata": {
    "ExecuteTime": {
     "start_time": "2023-05-14T06:53:15.586920061Z"
    }
   },
   "outputs": [],
   "source": [
    "import matplotlib.pyplot as plt\n",
    "\n",
    "x = np.linspace(-10, 10, 100)\n",
    "y = np.sin(x)\n",
    "plt.plot(x, y, marker=\"x\")"
   ]
  },
  {
   "cell_type": "code",
   "execution_count": null,
   "metadata": {},
   "outputs": [],
   "source": [
    "import sys\n",
    "print(\"Python version: {}\".format(sys.version))\n",
    "import pandas as pd\n",
    "print(\"pandas version: {}\".format(pd.__version__))\n",
    "import matplotlib\n",
    "print(\"matplotlib version: {}\".format(matplotlib.__version__))\n",
    "import numpy as np\n",
    "print(\"NumPy version: {}\".format(np.__version__))\n",
    "import scipy as sp\n",
    "print(\"SciPy version: {}\".format(sp.__version__))\n",
    "import IPython\n",
    "print(\"IPython version: {}\".format(IPython.__version__))\n",
    "import sklearn\n",
    "print(\"scikit-learn version: {}\".format(sklearn.__version__))"
   ]
  },
  {
   "cell_type": "code",
   "execution_count": null,
   "metadata": {},
   "outputs": [],
   "source": [
    "iris_dataset = sklearn.datasets.load_iris()\n",
    "# print(\"Keys of iris_dataset: \\n{}\".format(iris_dataset.keys()))\n",
    "print(iris_dataset['data'][:10])"
   ]
  },
  {
   "cell_type": "code",
   "execution_count": null,
   "metadata": {},
   "outputs": [],
   "source": [
    "from sklearn.model_selection import train_test_split\n",
    "X_train, X_test, y_train, y_test = train_test_split(\n",
    "    iris_dataset['data'], iris_dataset['target'], random_state=0)\n",
    "# create dataframe from data in X_train\n",
    "# label the columns using the strings in iris_dataset.feature_names\n",
    "iris_dataframe = pd.DataFrame(X_train, columns=iris_dataset.feature_names)\n",
    "# create a scatter matrix from the dataframe, color by y_train\n",
    "grr = pd.plotting.scatter_matrix(\n",
    "    iris_dataframe,             # The DataFrame containing the data to plot\n",
    "    c=y_train,                  # The color of the markers, based on the target variable\n",
    "    figsize=(15, 15),           # The size of the figure in inches\n",
    "    marker='o',                 # The marker style for the scatter plot\n",
    "    hist_kwds={'bins': 20},     # Keyword arguments for the histogram bins\n",
    "    s=60,                       # The marker size\n",
    "    alpha=.8,                   # The transparency of the markers\n",
    "    cmap='viridis'              # The color map to use\n",
    ")\n"
   ]
  },
  {
   "cell_type": "code",
   "execution_count": null,
   "metadata": {},
   "outputs": [],
   "source": [
    "from sklearn.neighbors import KNeighborsClassifier\n",
    "knn = KNeighborsClassifier(n_neighbors=1)\n",
    "knn.fit(X_train, y_train)"
   ]
  },
  {
   "cell_type": "code",
   "execution_count": null,
   "metadata": {},
   "outputs": [],
   "source": [
    "X_new = np.array([[5, 2.9, 1, 0.2]])\n",
    "print(\"X_new.shape: {}\".format(X_new.shape))"
   ]
  },
  {
   "cell_type": "code",
   "execution_count": null,
   "metadata": {},
   "outputs": [],
   "source": []
  },
  {
   "cell_type": "code",
   "execution_count": null,
   "metadata": {},
   "outputs": [],
   "source": [
    "prediction = knn.predict(X_new)\n",
    "print(\"Prediction: {}\".format(prediction))\n",
    "print(\"Predicted target name: {}\".format(\n",
    " iris_dataset['target_names'][prediction]))"
   ]
  },
  {
   "cell_type": "code",
   "execution_count": null,
   "metadata": {},
   "outputs": [],
   "source": [
    "y_pred = knn.predict(X_test)\n",
    "print(\"Test set predictions:\\n {}\".format(y_pred))"
   ]
  },
  {
   "cell_type": "markdown",
   "metadata": {},
   "source": [
    "# Evaluating the model"
   ]
  },
  {
   "cell_type": "code",
   "execution_count": null,
   "metadata": {},
   "outputs": [],
   "source": [
    "print(\"Test set score: {}\".format(np.mean(y_pred == y_test)))"
   ]
  },
  {
   "cell_type": "code",
   "execution_count": null,
   "metadata": {},
   "outputs": [],
   "source": [
    "y_pred = pd.DataFrame(y_pred)\n",
    "y_test = pd.DataFrame(y_test)\n",
    "y_pred.columns = ['Predicted']\n",
    "y_test.columns = ['Actual']\n",
    "\n",
    "# Plotting the wrong predictions red on the test set\n",
    "y_test['WRONG'] = y_pred[y_pred['Predicted'] != y_test['Actual']]\n",
    "\n",
    "# y_test['WRONG'] = wrong_predictions\n",
    "print(X_test)\n",
    "# plt.scatter(X_test.index, X_test.)\n",
    "# plt.scatter(y_test.index, y_test['WRONG'], c='red')\n",
    "# plt.scatter(y_test.index, y_test['Actual'], c='blue')\n",
    "plt.show()\n"
   ]
  },
  {
   "cell_type": "code",
   "execution_count": 20,
   "metadata": {
    "ExecuteTime": {
     "end_time": "2023-05-14T06:53:15.776723426Z",
     "start_time": "2023-05-14T06:53:15.738926074Z"
    }
   },
   "outputs": [],
   "source": [
    "\n",
    "\n",
    "# grr = pd.plotting.scatter_matrix(\n",
    "#     iris_dataframe,             # The DataFrame containing the data to plot\n",
    "#     c=y_train,                  # The color of the markers, based on the target variable\n",
    "#     figsize=(15, 15),           # The size of the figure in inches\n",
    "#     marker='o',                 # The marker style for the scatter plot\n",
    "#     hist_kwds={'bins': 20},     # Keyword arguments for the histogram bins\n",
    "#     s=60,                       # The marker size\n",
    "#     alpha=.8,                   # The transparency of the markers\n",
    "#     cmap='viridis'              # The color map to use\n",
    "# )"
   ]
  },
  {
   "cell_type": "code",
   "execution_count": 21,
   "metadata": {
    "ExecuteTime": {
     "end_time": "2023-05-14T06:53:16.008883786Z",
     "start_time": "2023-05-14T06:53:15.958134674Z"
    }
   },
   "outputs": [
    {
     "name": "stdout",
     "output_type": "stream",
     "text": [
      "    Actual  WRONG\n",
      "0        2    NaN\n",
      "1        1    NaN\n",
      "2        0    NaN\n",
      "3        2    NaN\n",
      "4        0    NaN\n",
      "5        2    NaN\n",
      "6        0    NaN\n",
      "7        1    NaN\n",
      "8        1    NaN\n",
      "9        1    NaN\n",
      "10       2    NaN\n",
      "11       1    NaN\n",
      "12       1    NaN\n",
      "13       1    NaN\n",
      "14       1    NaN\n",
      "15       0    NaN\n",
      "16       1    NaN\n",
      "17       1    NaN\n",
      "18       0    NaN\n",
      "19       0    NaN\n",
      "20       2    NaN\n",
      "21       1    NaN\n",
      "22       0    NaN\n",
      "23       0    NaN\n",
      "24       2    NaN\n",
      "25       0    NaN\n",
      "26       0    NaN\n",
      "27       1    NaN\n",
      "28       1    NaN\n",
      "29       0    NaN\n",
      "30       2    NaN\n",
      "31       1    NaN\n",
      "32       0    NaN\n",
      "33       2    NaN\n",
      "34       2    NaN\n",
      "35       1    NaN\n",
      "36       0    NaN\n",
      "37       1    2.0\n"
     ]
    }
   ],
   "source": [
    "print(y_test)"
   ]
  },
  {
   "cell_type": "code",
   "execution_count": null,
   "outputs": [],
   "source": [],
   "metadata": {
    "collapsed": false
   }
  }
 ],
 "metadata": {
  "kernelspec": {
   "display_name": "Python 3 (ipykernel)",
   "language": "python",
   "name": "python3"
  },
  "language_info": {
   "codemirror_mode": {
    "name": "ipython",
    "version": 3
   },
   "file_extension": ".py",
   "mimetype": "text/x-python",
   "name": "python",
   "nbconvert_exporter": "python",
   "pygments_lexer": "ipython3",
   "version": "3.10.10"
  }
 },
 "nbformat": 4,
 "nbformat_minor": 1
}
